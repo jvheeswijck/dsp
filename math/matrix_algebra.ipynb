{
 "cells": [
  {
   "cell_type": "code",
   "execution_count": 33,
   "metadata": {
    "collapsed": true
   },
   "outputs": [],
   "source": [
    "import numpy as np\n",
    "\n",
    "A = np.array([1,2,3,2,7,4]).reshape(2,3)\n",
    "B = np.array([1,-1,0,1]).reshape(2,2)\n",
    "C = np.array([5,-1,9,1,6,0]).reshape(3,2)\n",
    "D = np.array([3,-2,-1,1,2,3]).reshape(2,3)\n",
    "u = np.array([6,2,-3,5])\n",
    "v = np.array([3,5,-1,4])\n",
    "w = np.array([1,8,0,5])\n",
    "\n",
    "alpha = 6"
   ]
  },
  {
   "cell_type": "code",
   "execution_count": 27,
   "metadata": {},
   "outputs": [
    {
     "name": "stdout",
     "output_type": "stream",
     "text": [
      "A = (2, 3)\n",
      "B = (2, 2)\n",
      "C = (3, 2)\n",
      "D = (2, 3)\n",
      "u = (4,)\n",
      "v = (4,)\n",
      "w = (4,)\n"
     ]
    }
   ],
   "source": [
    "#Q1\n",
    "names = 'A B C D u v w'.split()\n",
    "matrices = [A,B,C,D,u,v,w]\n",
    "\n",
    "for names, e in zip(names, matrices):\n",
    "    print('{0} = {1}'.format(names, e.shape,))\n"
   ]
  },
  {
   "cell_type": "code",
   "execution_count": 37,
   "metadata": {},
   "outputs": [
    {
     "name": "stdout",
     "output_type": "stream",
     "text": [
      "u + v = [ 9  7 -4  9]\n",
      "u - v = [ 3 -3 -2  1]\n",
      "alpha * u = [ 36  12 -18  30]\n",
      "u.v = 51\n",
      "||u|| = 8.60232526704\n"
     ]
    }
   ],
   "source": [
    "#Q2.1\n",
    "print('u + v = ' + str(u + v))\n",
    "#Q2.2\n",
    "print('u - v = ' + str(u - v))\n",
    "#Q2.3\n",
    "print('alpha * u = ' + str(alpha * u))\n",
    "#Q2.4\n",
    "print('u.v = ' + str(u.dot(v)))\n",
    "#Q2.5\n",
    "print('||u|| = ' + str(np.sqrt(u.dot(u))))"
   ]
  },
  {
   "cell_type": "code",
   "execution_count": 52,
   "metadata": {},
   "outputs": [
    {
     "name": "stdout",
     "output_type": "stream",
     "text": [
      "A + C = Undefined\n",
      "\n",
      "A - C.T = [[-4 -7 -3]\n",
      " [ 3  6  4]]\n",
      "\n",
      "C.T + 3D = [[14  3  3]\n",
      " [ 2  7  9]]\n",
      "\n",
      "BA = [[-1 -5 -1]\n",
      " [ 2  7  4]]\n",
      "\n",
      "BA.T = Undefined\n",
      "\n",
      "BC = Undefined\n",
      "\n",
      "CB = [[ 5 -6]\n",
      " [ 9 -8]\n",
      " [ 6 -6]]\n",
      "\n",
      "B*4 = [[ 1 -4]\n",
      " [ 0  1]]\n",
      "\n",
      "AA.T = [[14 28]\n",
      " [28 69]]\n",
      "\n",
      "D.T*D = [[10 -4  0]\n",
      " [-4  8  8]\n",
      " [ 0  8 10]]\n",
      "\n"
     ]
    }
   ],
   "source": [
    "#Q3.1\n",
    "try:\n",
    "    print('A + C = ' + str(A + C))\n",
    "except:\n",
    "    print('A + C = Undefined')\n",
    "print('')\n",
    "\n",
    "#Q3.2\n",
    "try:\n",
    "    print('A - C.T = ' + str(A - C.T))\n",
    "except:\n",
    "    print('A + C.T = Undefined')\n",
    "print('')\n",
    "\n",
    "#Q3.3\n",
    "try:\n",
    "    print('C.T + 3D = ' + str(C.T + 3*D))\n",
    "except:\n",
    "    print('C.T + 3D = Undefined')\n",
    "print('')\n",
    "\n",
    "#Q3.4\n",
    "try:\n",
    "    print('BA = ' + str(B.dot(A)))\n",
    "except:\n",
    "    print('BA = Undefined')\n",
    "print('')\n",
    "\n",
    "#Q3.5\n",
    "try:\n",
    "    print('BA.T = ' + str(B.dot(A.T)))\n",
    "except:\n",
    "    print('BA.T = Undefined')\n",
    "print('')\n",
    "#Q3.6\n",
    "try:\n",
    "    print('BC = ' + str(B.dot(C)))\n",
    "except:\n",
    "    print('BC = Undefined')\n",
    "print('')\n",
    "#Q3.7\n",
    "try:\n",
    "    print('CB = ' + str(C.dot(B)))\n",
    "except:\n",
    "    print('CB = Undefined')\n",
    "print('')\n",
    "#Q3.8\n",
    "try:\n",
    "    print('B*4 = ' + str(np.linalg.matrix_power(B, 4)))\n",
    "except:\n",
    "    print('B*4 = Undefined')\n",
    "print('')\n",
    "#Q3.9\n",
    "try:\n",
    "    print('AA.T = ' + str(A.dot(A.T)))\n",
    "except:\n",
    "    print('AA.T = Undefined')\n",
    "print('')\n",
    "#Q3.10\n",
    "try:\n",
    "    print('D.T*D = ' + str(D.T.dot(D)))\n",
    "except:\n",
    "    print('D.T*D = Undefined')\n",
    "print('')"
   ]
  },
  {
   "cell_type": "code",
   "execution_count": null,
   "metadata": {
    "collapsed": true
   },
   "outputs": [],
   "source": []
  }
 ],
 "metadata": {
  "kernelspec": {
   "display_name": "Python 3",
   "language": "python",
   "name": "python3"
  },
  "language_info": {
   "codemirror_mode": {
    "name": "ipython",
    "version": 3
   },
   "file_extension": ".py",
   "mimetype": "text/x-python",
   "name": "python",
   "nbconvert_exporter": "python",
   "pygments_lexer": "ipython3",
   "version": "3.6.1"
  }
 },
 "nbformat": 4,
 "nbformat_minor": 2
}
